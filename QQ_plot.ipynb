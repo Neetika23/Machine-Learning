{
  "nbformat": 4,
  "nbformat_minor": 0,
  "metadata": {
    "colab": {
      "name": "QQ plot.ipynb",
      "provenance": [],
      "authorship_tag": "ABX9TyMZv2MDGfcAEBV2wrRNm8pe",
      "include_colab_link": true
    },
    "kernelspec": {
      "name": "python3",
      "display_name": "Python 3"
    }
  },
  "cells": [
    {
      "cell_type": "markdown",
      "metadata": {
        "id": "view-in-github",
        "colab_type": "text"
      },
      "source": [
        "<a href=\"https://colab.research.google.com/github/Neetika23/Machine-Learning/blob/master/QQ_plot.ipynb\" target=\"_parent\"><img src=\"https://colab.research.google.com/assets/colab-badge.svg\" alt=\"Open In Colab\"/></a>"
      ]
    },
    {
      "cell_type": "code",
      "metadata": {
        "id": "EN00fGEzNydM",
        "colab_type": "code",
        "colab": {
          "base_uri": "https://localhost:8080/",
          "height": 1000
        },
        "outputId": "97586f6c-d995-44f8-e012-a4d206a57826"
      },
      "source": [
        "import numpy as np\n",
        "import pylab\n",
        "import scipy.stats as stats\n",
        "\n",
        "# This is how you generate the sample of random numbers, i.e generate observations from normal distribution\n",
        "# loc -> mean\n",
        "# scale -> std-dev\n",
        "# Generate random numbers or samples randomly from gaussian distribution with mean 0 and std-dev 1 (generate 1000 such samples)\n",
        "# Put all 1000 in the variable called std_normal\n",
        "# This is how you generate random observations from gaussian distribution.\n",
        "# N(0,1)\n",
        "std_normal = np.random.normal(loc = 0, scale = 1, size = 1000)\n",
        "\n",
        "# 0 to 100th percentiles of std-normal\n",
        "# Giving the i = first, second, third,.... percentile of 1000 values\n",
        "for i in range(0,101):\n",
        "  print(i,np.percentile(std_normal,i))\n"
      ],
      "execution_count": 2,
      "outputs": [
        {
          "output_type": "stream",
          "text": [
            "0 -3.5137727671752628\n",
            "1 -2.3883515383178735\n",
            "2 -2.0154579148752005\n",
            "3 -1.9366880777850537\n",
            "4 -1.787155441210347\n",
            "5 -1.6492605234706166\n",
            "6 -1.5347255115689586\n",
            "7 -1.4823480452891087\n",
            "8 -1.4403383437693404\n",
            "9 -1.3603602087811872\n",
            "10 -1.3300697770507959\n",
            "11 -1.2295944989874512\n",
            "12 -1.157291352731403\n",
            "13 -1.100650324978264\n",
            "14 -1.0564195017941256\n",
            "15 -1.0067287490968657\n",
            "16 -0.9810591357682322\n",
            "17 -0.9416686291740968\n",
            "18 -0.9186401250863184\n",
            "19 -0.890715958984793\n",
            "20 -0.8607425267575837\n",
            "21 -0.8193235858974528\n",
            "22 -0.7480586230607895\n",
            "23 -0.714809603256603\n",
            "24 -0.6806864020829138\n",
            "25 -0.6360148111084178\n",
            "26 -0.6149506111438823\n",
            "27 -0.5811969772753952\n",
            "28 -0.5529192841201112\n",
            "29 -0.5280605031176144\n",
            "30 -0.49180028948436694\n",
            "31 -0.46477438507749647\n",
            "32 -0.4315748912096666\n",
            "33 -0.40132819693992733\n",
            "34 -0.37274606071794847\n",
            "35 -0.34680255869453663\n",
            "36 -0.30955264393652615\n",
            "37 -0.29430451163061266\n",
            "38 -0.27891648109834577\n",
            "39 -0.25386322980888876\n",
            "40 -0.24095960532043498\n",
            "41 -0.20963748706529767\n",
            "42 -0.16248571257984093\n",
            "43 -0.14710224620067774\n",
            "44 -0.1122798841438922\n",
            "45 -0.07497786080035546\n",
            "46 -0.04356349787407866\n",
            "47 -0.01474435158940772\n",
            "48 -0.0026315140687969253\n",
            "49 0.021652245336840778\n",
            "50 0.06256782821122808\n",
            "51 0.09585450454524135\n",
            "52 0.11487007858472659\n",
            "53 0.139965122960521\n",
            "54 0.15566565134713922\n",
            "55 0.17708713357483485\n",
            "56 0.20011448216568628\n",
            "57 0.2361689114346145\n",
            "58 0.24429545663882862\n",
            "59 0.2787582627710893\n",
            "60 0.3124888963151561\n",
            "61 0.33231252877778317\n",
            "62 0.3595795787366961\n",
            "63 0.3751756603960895\n",
            "64 0.3950168409083101\n",
            "65 0.4235419426062288\n",
            "66 0.4561140357745466\n",
            "67 0.4769622716362054\n",
            "68 0.5158492601540314\n",
            "69 0.5469315700924798\n",
            "70 0.5844505803417529\n",
            "71 0.6105538052767889\n",
            "72 0.6396861733609713\n",
            "73 0.6689569956461824\n",
            "74 0.7014982869613793\n",
            "75 0.7176766872247557\n",
            "76 0.7470853029708171\n",
            "77 0.7859543670526408\n",
            "78 0.8142220850396645\n",
            "79 0.8386282066835561\n",
            "80 0.876302845844927\n",
            "81 0.9054788918739782\n",
            "82 0.9458169826656422\n",
            "83 1.013607029810233\n",
            "84 1.0534374689764028\n",
            "85 1.1122857631434588\n",
            "86 1.1449040580799092\n",
            "87 1.1979890340154935\n",
            "88 1.221992464835314\n",
            "89 1.2474569582956838\n",
            "90 1.3331467517203348\n",
            "91 1.386269160688075\n",
            "92 1.4379441773321084\n",
            "93 1.5064274282817143\n",
            "94 1.599156810999647\n",
            "95 1.6773132169502334\n",
            "96 1.785651590964315\n",
            "97 1.9224554469787294\n",
            "98 2.0285794962403454\n",
            "99 2.2490124384165964\n",
            "100 3.205580254639756\n"
          ],
          "name": "stdout"
        }
      ]
    },
    {
      "cell_type": "code",
      "metadata": {
        "id": "JrCtp6ZWh9pB",
        "colab_type": "code",
        "colab": {
          "base_uri": "https://localhost:8080/",
          "height": 295
        },
        "outputId": "f9491bfe-90c2-48cd-c86e-81f355faddf0"
      },
      "source": [
        "# generate 100 samples from N(20,5) and store it in measurements\n",
        "measurements = np.random.normal(loc = 20, scale = 5, size = 50000)\n",
        "\n",
        "# make probability plot between measurements and norm(normal (N(0,1))) and for plotting use pylab\n",
        "stats.probplot(measurements, dist = \"norm\", plot = pylab)\n",
        "pylab.show()\n",
        "\n",
        "# x-axis = N(0,1)\n",
        "# y-axis = N(20,5)\n",
        "# since both X and Y come from same distribution, therefore we get most of the points lie on the same line.\n",
        "# in case of size = 1000, more points lie on the st. line\n",
        "# as number of sample increases, more and more pt. are cl0ser to this line.\n",
        "# So, major limitation of qq plot is that it does not work well with small samples/observations. It becomes hard to interpret qq plot."
      ],
      "execution_count": 6,
      "outputs": [
        {
          "output_type": "display_data",
          "data": {
            "image/png": "[encoded data removed]",
            "text/plain": [
              "<Figure size 432x288 with 1 Axes>"
            ]
          },
          "metadata": {
            "tags": [],
            "needs_background": "light"
          }
        }
      ]
    },
    {
      "cell_type": "code",
      "metadata": {
        "id": "AZXb2py0vsKH",
        "colab_type": "code",
        "colab": {
          "base_uri": "https://localhost:8080/",
          "height": 295
        },
        "outputId": "598288e7-8ef7-4c4b-8a4f-373817c8d8b2"
      },
      "source": [
        "# Now if we generate it with uniform distribution instead of gaussian distribution\n",
        "measurements = np.random.uniform(low = -1, high = 1, size = 10000)\n",
        "\n",
        "stats.probplot(measurements, dist = \"norm\", plot = pylab)\n",
        "pylab.show()\n",
        "\n",
        "# xaxis = gaussian dist\n",
        "# yaxis = uniform dist\n",
        "# Extreme points are deviating more.\n",
        "# If most of the points lie on the st. line then X and Y belong to same family otherwise not."
      ],
      "execution_count": 8,
      "outputs": [
        {
          "output_type": "display_data",
          "data": {
            "image/png": "[encoded data removed]",
            "text/plain": [
              "<Figure size 432x288 with 1 Axes>"
            ]
          },
          "metadata": {
            "tags": [],
            "needs_background": "light"
          }
        }
      ]
    }
  ]
}