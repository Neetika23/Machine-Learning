{
  "nbformat": 4,
  "nbformat_minor": 0,
  "metadata": {
    "colab": {
      "name": "Cross Validation.ipynb",
      "provenance": [],
      "authorship_tag": "ABX9TyOaexKyy2YkDoaWwDqOVnfr",
      "include_colab_link": true
    },
    "kernelspec": {
      "name": "python3",
      "display_name": "Python 3"
    }
  },
  "cells": [
    {
      "cell_type": "markdown",
      "metadata": {
        "id": "view-in-github",
        "colab_type": "text"
      },
      "source": [
        "<a href=\"https://colab.research.google.com/github/Neetika23/Machine-Learning/blob/master/Cross_Validation.ipynb\" target=\"_parent\"><img src=\"https://colab.research.google.com/assets/colab-badge.svg\" alt=\"Open In Colab\"/></a>"
      ]
    },
    {
      "cell_type": "code",
      "metadata": {
        "id": "yED2t8ltIhuQ",
        "colab_type": "code",
        "colab": {
          "base_uri": "https://localhost:8080/",
          "height": 101
        },
        "outputId": "476650a8-6d14-4831-a05d-6100e7d2b7df"
      },
      "source": [
        "!pip install sklearn"
      ],
      "execution_count": 3,
      "outputs": [
        {
          "output_type": "stream",
          "text": [
            "Requirement already satisfied: sklearn in /usr/local/lib/python3.6/dist-packages (0.0)\n",
            "Requirement already satisfied: scikit-learn in /usr/local/lib/python3.6/dist-packages (from sklearn) (0.22.2.post1)\n",
            "Requirement already satisfied: numpy>=1.11.0 in /usr/local/lib/python3.6/dist-packages (from scikit-learn->sklearn) (1.18.5)\n",
            "Requirement already satisfied: scipy>=0.17.0 in /usr/local/lib/python3.6/dist-packages (from scikit-learn->sklearn) (1.4.1)\n",
            "Requirement already satisfied: joblib>=0.11 in /usr/local/lib/python3.6/dist-packages (from scikit-learn->sklearn) (0.16.0)\n"
          ],
          "name": "stdout"
        }
      ]
    },
    {
      "cell_type": "code",
      "metadata": {
        "id": "x_FN7LW-ItVd",
        "colab_type": "code",
        "colab": {
          "base_uri": "https://localhost:8080/",
          "height": 50
        },
        "outputId": "527166f2-e923-4746-a6c9-56343cf97c68"
      },
      "source": [
        "!pip install cross_validation"
      ],
      "execution_count": 5,
      "outputs": [
        {
          "output_type": "stream",
          "text": [
            "\u001b[31mERROR: Could not find a version that satisfies the requirement cross_validation (from versions: none)\u001b[0m\n",
            "\u001b[31mERROR: No matching distribution found for cross_validation\u001b[0m\n"
          ],
          "name": "stdout"
        }
      ]
    },
    {
      "cell_type": "code",
      "metadata": {
        "id": "cAV5nJVXEFLX",
        "colab_type": "code",
        "colab": {}
      },
      "source": [
        "import numpy as np\n",
        "import pandas as pd\n",
        "import matplotlib.pyplot as plt\n",
        "from sklearn.model_selection import cross_validate\n",
        "from sklearn.model_selection import train_test_split\n",
        "from sklearn.neighbors import KNeighborsClassifier\n",
        "from sklearn.metrics import accuracy_score\n",
        "from sklearn.model_selection import cross_val_score\n",
        "from collections import Counter\n",
        "from sklearn.metrics import accuracy_score\n"
      ],
      "execution_count": 10,
      "outputs": []
    },
    {
      "cell_type": "code",
      "metadata": {
        "id": "XhAY-JZtJetk",
        "colab_type": "code",
        "colab": {
          "base_uri": "https://localhost:8080/",
          "height": 34
        },
        "outputId": "ecba0691-38c1-462d-db22-6d1d975c366d"
      },
      "source": [
        "from google.colab import drive\n",
        "drive.mount('/content/drive')"
      ],
      "execution_count": 11,
      "outputs": [
        {
          "output_type": "stream",
          "text": [
            "Mounted at /content/drive\n"
          ],
          "name": "stdout"
        }
      ]
    },
    {
      "cell_type": "code",
      "metadata": {
        "id": "y8xGy1a8JXEP",
        "colab_type": "code",
        "colab": {
          "base_uri": "https://localhost:8080/",
          "height": 118
        },
        "outputId": "3c81554b-e8e6-4392-940f-a5a2b33d7bb0"
      },
      "source": [
        "# define column names\n",
        "names = ['x', 'y', 'class']\n",
        "\n",
        "# loading training data\n",
        "df = pd.read_csv('/content/drive/My Drive/concertriccir2.csv', header=None, names=names)\n",
        "print(df.head())\n",
        "\n",
        "# create design matrix X and target vector y\n",
        "X = np.array(df.iloc[:, 0:2]) # end index is exclusive\n",
        "y = np.array(df['class']) # showing you two ways of indexing a pandas df"
      ],
      "execution_count": 12,
      "outputs": [
        {
          "output_type": "stream",
          "text": [
            "          x         y  class\n",
            "0  0.700335 -0.247068    0.0\n",
            "1 -3.950019  2.740080    1.0\n",
            "2  0.150222 -2.157638    1.0\n",
            "3 -1.672050 -0.941519    1.0\n",
            "4  2.560483 -1.846577    1.0\n"
          ],
          "name": "stdout"
        }
      ]
    },
    {
      "cell_type": "markdown",
      "metadata": {
        "id": "cVe5WCktKDqA",
        "colab_type": "text"
      },
      "source": [
        "##Simple Cross Validation"
      ]
    },
    {
      "cell_type": "code",
      "metadata": {
        "id": "DBzGTg4yKKdq",
        "colab_type": "code",
        "colab": {
          "base_uri": "https://localhost:8080/",
          "height": 554
        },
        "outputId": "6a16e2fd-6967-423c-e7b9-87a5cc76a99f"
      },
      "source": [
        "# split the data set into train and test\n",
        "X_1, X_test, y_1, y_test = train_test_split(X, y, test_size=0.3, random_state=0)\n",
        "\n",
        "# split the train data set into cross validation train and cross validation test\n",
        "X_tr, X_cv, y_tr, y_cv = train_test_split(X_1, y_1, test_size=0.3)\n",
        "\n",
        "for i in range(1,30,2):\n",
        "    # instantiate learning model (k = 30)\n",
        "    knn = KNeighborsClassifier(n_neighbors=i)\n",
        "\n",
        "    # fitting the model on crossvalidation train\n",
        "    knn.fit(X_tr, y_tr)\n",
        "\n",
        "    # predict the response on the crossvalidation train\n",
        "    pred = knn.predict(X_cv)\n",
        "\n",
        "    # evaluate CV accuracy\n",
        "    acc = accuracy_score(y_cv, pred, normalize=True) * float(100)\n",
        "    print('\\nCV accuracy for k = %d is %d%%' % (i, acc))\n",
        "    \n",
        "    # As we saw that prediction with k=1 was the best. so I used k=1 on the test data.\n",
        "knn = KNeighborsClassifier(1) \n",
        "knn.fit(X_tr,y_tr)\n",
        "pred = knn.predict(X_test)  # Predicted on test set.\n",
        "acc = accuracy_score(y_test, pred, normalize=True) * float(100)  \n",
        "print('\\n****Test accuracy for k = 1 is %d%%' % (acc))"
      ],
      "execution_count": 14,
      "outputs": [
        {
          "output_type": "stream",
          "text": [
            "\n",
            "CV accuracy for k = 1 is 88%\n",
            "\n",
            "CV accuracy for k = 3 is 85%\n",
            "\n",
            "CV accuracy for k = 5 is 85%\n",
            "\n",
            "CV accuracy for k = 7 is 87%\n",
            "\n",
            "CV accuracy for k = 9 is 87%\n",
            "\n",
            "CV accuracy for k = 11 is 88%\n",
            "\n",
            "CV accuracy for k = 13 is 87%\n",
            "\n",
            "CV accuracy for k = 15 is 84%\n",
            "\n",
            "CV accuracy for k = 17 is 84%\n",
            "\n",
            "CV accuracy for k = 19 is 84%\n",
            "\n",
            "CV accuracy for k = 21 is 80%\n",
            "\n",
            "CV accuracy for k = 23 is 81%\n",
            "\n",
            "CV accuracy for k = 25 is 80%\n",
            "\n",
            "CV accuracy for k = 27 is 80%\n",
            "\n",
            "CV accuracy for k = 29 is 79%\n",
            "\n",
            "****Test accuracy for k = 1 is 91%\n"
          ],
          "name": "stdout"
        }
      ]
    },
    {
      "cell_type": "markdown",
      "metadata": {
        "id": "WVb4Cv7WMykZ",
        "colab_type": "text"
      },
      "source": [
        "##10 Fold Cross Validation"
      ]
    },
    {
      "cell_type": "code",
      "metadata": {
        "id": "ltY5XhuZMvmb",
        "colab_type": "code",
        "colab": {
          "base_uri": "https://localhost:8080/",
          "height": 363
        },
        "outputId": "65462cb4-3e4b-4615-d6b3-4042e0c395cd"
      },
      "source": [
        "# creating odd list of K for KNN\n",
        "myList = list(range(0,50))  # creating list of numbers\n",
        "neighbors = list(filter(lambda x: x % 2 != 0, myList))  # creating neighbors as odd numbers.\n",
        "\n",
        "# empty list that will hold cv scores\n",
        "cv_scores = []\n",
        "\n",
        "# perform 10-fold cross validation\n",
        "for k in neighbors:\n",
        "    knn = KNeighborsClassifier(n_neighbors=k)\n",
        "    # It applies 10 fold cv on the training data using knn\n",
        "    scores = cross_val_score(knn, X_1, y_1, cv=3, scoring='accuracy')\n",
        "    cv_scores.append(scores.mean())\n",
        "\n",
        "# changing to misclassification error = 1-accuracy.\n",
        "MSE = [1 - x for x in cv_scores]\n",
        "\n",
        "# determining best k\n",
        "optimal_k = neighbors[MSE.index(min(MSE))]  # finding the k with minimum misclassification error.\n",
        "print('\\nThe optimal number of neighbors is %d.' % optimal_k)\n",
        "\n",
        "# plot misclassification error vs k \n",
        "plt.plot(neighbors, MSE)\n",
        "\n",
        "for xy in zip(neighbors, np.round(MSE,3)):\n",
        "    plt.annotate('(%s, %s)' % xy, xy=xy, textcoords='data')\n",
        "\n",
        "plt.xlabel('Number of Neighbors K')\n",
        "plt.ylabel('Misclassification Error')\n",
        "plt.show()\n",
        "\n",
        "print(\"the misclassification error for each k value is : \", np.round(MSE,3))"
      ],
      "execution_count": 16,
      "outputs": [
        {
          "output_type": "stream",
          "text": [
            "\n",
            "The optimal number of neighbors is 1.\n"
          ],
          "name": "stdout"
        },
        {
          "output_type": "display_data",
          "data": {
            "image/png": "[encoded data removed]",
            "text/plain": [
              "<Figure size 432x288 with 1 Axes>"
            ]
          },
          "metadata": {
            "tags": [],
            "needs_background": "light"
          }
        },
        {
          "output_type": "stream",
          "text": [
            "the misclassification error for each k value is :  [0.103 0.146 0.16  0.146 0.151 0.166 0.203 0.208 0.223 0.246 0.248 0.26\n",
            " 0.274 0.286 0.309 0.317 0.349 0.357 0.357 0.369 0.397 0.397 0.406 0.412\n",
            " 0.412]\n"
          ],
          "name": "stdout"
        }
      ]
    },
    {
      "cell_type": "code",
      "metadata": {
        "id": "wQ8uibHjKCLQ",
        "colab_type": "code",
        "colab": {
          "base_uri": "https://localhost:8080/",
          "height": 50
        },
        "outputId": "59c58037-7c20-428e-f778-d4e9b7c996e9"
      },
      "source": [
        "# instantiate learning model k = optimal_k\n",
        "knn_optimal = KNeighborsClassifier(n_neighbors=optimal_k)\n",
        "\n",
        "# fitting the model\n",
        "knn_optimal.fit(X_1, y_1)\n",
        "\n",
        "# predict the response\n",
        "pred = knn_optimal.predict(X_test)\n",
        "\n",
        "# evaluate accuracy\n",
        "acc = accuracy_score(y_test, pred) * 100\n",
        "print('\\nThe accuracy of the knn classifier for k = %d is %f%%' % (optimal_k, acc))"
      ],
      "execution_count": 17,
      "outputs": [
        {
          "output_type": "stream",
          "text": [
            "\n",
            "The accuracy of the knn classifier for k = 1 is 91.333333%\n"
          ],
          "name": "stdout"
        }
      ]
    }
  ]
}